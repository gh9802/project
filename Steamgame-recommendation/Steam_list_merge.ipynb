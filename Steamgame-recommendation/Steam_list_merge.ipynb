{
 "cells": [
  {
   "cell_type": "code",
   "execution_count": 3,
   "metadata": {},
   "outputs": [
    {
     "name": "stdout",
     "output_type": "stream",
     "text": [
      "['C:\\\\Users\\\\ghc11\\\\Desktop\\\\steam\\\\test_1001_1501.csv', 'C:\\\\Users\\\\ghc11\\\\Desktop\\\\steam\\\\test_1501_2001.csv', 'C:\\\\Users\\\\ghc11\\\\Desktop\\\\steam\\\\test_1_501.csv', 'C:\\\\Users\\\\ghc11\\\\Desktop\\\\steam\\\\test_2001_2501.csv', 'C:\\\\Users\\\\ghc11\\\\Desktop\\\\steam\\\\test_2501_3001.csv', 'C:\\\\Users\\\\ghc11\\\\Desktop\\\\steam\\\\test_3001_3368.csv', 'C:\\\\Users\\\\ghc11\\\\Desktop\\\\steam\\\\test_501_1001.csv']\n"
     ]
    }
   ],
   "source": [
    "import pandas as pd\n",
    "import glob\n",
    "import os\n",
    "\n",
    "input_file = r'C:\\Users\\ghc11\\Desktop\\steam' # csv파일들이 있는 디렉토리 위치\n",
    "output_file = r'C:\\Users\\ghc11\\Desktop\\steam' # 병합하고 저장하려는 파일명\n",
    "\n",
    "allFile_list = glob.glob(os.path.join(input_file, 'test_*')) # glob함수로 sales_로 시작하는 파일들을 모은다\n",
    "print(allFile_list)\n",
    "allData = [] # 읽어 들인 csv파일 내용을 저장할 빈 리스트를 하나 만든다\n",
    "for file in allFile_list:\n",
    "    df = pd.read_csv(file) # for구문으로 csv파일들을 읽어 들인다\n",
    "    allData.append(df) # 빈 리스트에 읽어 들인 내용을 추가한다\n",
    "\n",
    "dataCombine = pd.concat(allData, axis=0, ignore_index=True) # concat함수를 이용해서 리스트의 내용을 병합\n",
    "# axis=0은 수직으로 병합함. axis=1은 수평. ignore_index=True는 인데스 값이 기존 순서를 무시하고 순서대로 정렬되도록 한다.\n",
    "dataCombine.to_csv(\"result.csv\", index=True, encoding=\"utf-8-sig\") # to_csv함수로 저장한다. 인데스를 빼려면 False로 설정"
   ]
  }
 ],
 "metadata": {
  "kernelspec": {
   "display_name": "Python 3",
   "language": "python",
   "name": "python3"
  },
  "language_info": {
   "codemirror_mode": {
    "name": "ipython",
    "version": 3
   },
   "file_extension": ".py",
   "mimetype": "text/x-python",
   "name": "python",
   "nbconvert_exporter": "python",
   "pygments_lexer": "ipython3",
   "version": "3.8.3"
  }
 },
 "nbformat": 4,
 "nbformat_minor": 4
}
